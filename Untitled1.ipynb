{
  "nbformat": 4,
  "nbformat_minor": 0,
  "metadata": {
    "colab": {
      "provenance": [],
      "authorship_tag": "ABX9TyNYxM7YXS8KhRymcFM6kegj",
      "include_colab_link": true
    },
    "kernelspec": {
      "name": "python3",
      "display_name": "Python 3"
    },
    "language_info": {
      "name": "python"
    }
  },
  "cells": [
    {
      "cell_type": "markdown",
      "metadata": {
        "id": "view-in-github",
        "colab_type": "text"
      },
      "source": [
        "<a href=\"https://colab.research.google.com/github/amoghgujjal/chatbot/blob/main/Untitled1.ipynb\" target=\"_parent\"><img src=\"https://colab.research.google.com/assets/colab-badge.svg\" alt=\"Open In Colab\"/></a>"
      ]
    },
    {
      "cell_type": "code",
      "execution_count": 1,
      "metadata": {
        "colab": {
          "base_uri": "https://localhost:8080/"
        },
        "id": "r_FpbbcA-AHt",
        "outputId": "38b24c9f-7d30-41be-b152-475265abdada"
      },
      "outputs": [
        {
          "output_type": "stream",
          "name": "stdout",
          "text": [
            "Collecting pyMuPDF\n",
            "  Downloading pymupdf-1.25.5-cp39-abi3-manylinux2014_x86_64.manylinux_2_17_x86_64.whl.metadata (3.4 kB)\n",
            "Downloading pymupdf-1.25.5-cp39-abi3-manylinux2014_x86_64.manylinux_2_17_x86_64.whl (20.0 MB)\n",
            "\u001b[2K   \u001b[90m━━━━━━━━━━━━━━━━━━━━━━━━━━━━━━━━━━━━━━━━\u001b[0m \u001b[32m20.0/20.0 MB\u001b[0m \u001b[31m16.1 MB/s\u001b[0m eta \u001b[36m0:00:00\u001b[0m\n",
            "\u001b[?25hInstalling collected packages: pyMuPDF\n",
            "Successfully installed pyMuPDF-1.25.5\n"
          ]
        }
      ],
      "source": [
        "#importing necessary libraries\n",
        "!pip install pyMuPDF\n",
        "import urllib.request\n",
        "import fitz\n",
        "import re\n",
        "import numpy as np\n",
        "import tensorflow_hub as hub\n",
        "\n",
        "import os\n",
        "from sklearn.neighbors import NearestNeighbors\n"
      ]
    },
    {
      "cell_type": "code",
      "source": [
        "# defining the required functions\n",
        "def download_pdf(url, output_path):\n",
        "    urllib.request.urlretrieve(url, output_path)\n",
        "\n",
        "\n",
        "def preprocess(text):\n",
        "    text = text.replace('\\n', ' ')\n",
        "    text = re.sub('\\s+', ' ', text)\n",
        "    return text\n",
        "\n",
        "\n",
        "def pdf_to_text(path, start_page=1, end_page=None):\n",
        "    doc = fitz.open(path)\n",
        "    total_pages = doc.page_count\n",
        "\n",
        "    if end_page is None:\n",
        "        end_page = total_pages\n",
        "\n",
        "    text_list = []\n",
        "\n",
        "    for i in range(start_page-1, end_page):\n",
        "        text = doc.load_page(i).get_text(\"text\")\n",
        "        text = preprocess(text)\n",
        "        text_list.append(text)\n",
        "\n",
        "    doc.close()\n",
        "    return text_list\n",
        "\n",
        "\n",
        "def text_to_chunks(texts, word_length=150, start_page=1):\n",
        "    text_toks = [t.split(' ') for t in texts]\n",
        "    page_nums = []\n",
        "    chunks = []\n",
        "\n",
        "    for idx, words in enumerate(text_toks):\n",
        "        for i in range(0, len(words), word_length):\n",
        "            chunk = words[i:i+word_length]\n",
        "            if (i+word_length) > len(words) and (len(chunk) < word_length) and (\n",
        "                len(text_toks) != (idx+1)):\n",
        "                text_toks[idx+1] = chunk + text_toks[idx+1]\n",
        "                continue\n",
        "            chunk = ' '.join(chunk).strip()\n",
        "            chunk = f'[{idx+start_page}]' + ' ' + '\"' + chunk + '\"'\n",
        "            chunks.append(chunk)\n",
        "    return chunks"
      ],
      "metadata": {
        "id": "I9ordgZd-dIW"
      },
      "execution_count": 2,
      "outputs": []
    },
    {
      "cell_type": "code",
      "source": [
        "# loading the textbook\n",
        "download_pdf('https://pdit.ac.in/images/programs/ece/lab-manuals/DSP%20LAB%202024-25.pdf','book.pdf')\n",
        "#converting into .txt format\n",
        "pages=pdf_to_text('book.pdf')\n",
        "#creating chunks from the text generated\n",
        "chunks=text_to_chunks(pages)"
      ],
      "metadata": {
        "id": "UOfwkCbe-flW"
      },
      "execution_count": 3,
      "outputs": []
    },
    {
      "cell_type": "code",
      "source": [
        "total_words=0\n",
        "for page in pages:\n",
        "  total_words +=len(page.split(' '))\n",
        "\n",
        "print(\"the toalwords are \", total_words)\n",
        "print(\"length of chunks is\",len(chunks))"
      ],
      "metadata": {
        "colab": {
          "base_uri": "https://localhost:8080/"
        },
        "id": "cD7Ka2bf-omC",
        "outputId": "62c09125-ec97-4645-9acc-fa9970d44528"
      },
      "execution_count": 4,
      "outputs": [
        {
          "output_type": "stream",
          "name": "stdout",
          "text": [
            "the toalwords are  3489\n",
            "length of chunks is 24\n"
          ]
        }
      ]
    },
    {
      "cell_type": "code",
      "source": [
        "#displaying random number of chunks\n",
        "import random\n",
        "random.seed(123)\n",
        "random_idxs = random.choices(range(0, len(chunks)), k=5)\n",
        "\n",
        "for idx in random_idxs:\n",
        "  print(chunks[idx])\n",
        "  print()"
      ],
      "metadata": {
        "colab": {
          "base_uri": "https://localhost:8080/"
        },
        "id": "UycPo_a8-q30",
        "outputId": "41a45bd4-04cf-4683-c1a2-558cc3c1d8a1"
      },
      "execution_count": 5,
      "outputs": [
        {
          "output_type": "stream",
          "name": "stdout",
          "text": [
            "[4] \"step sequence % Plot the sequence stem(n, u, 'filled'); title('Unit Step Sequence'); xlabel('n'); ylabel('u[n]'); RESULT  ELECTRONICS AND COMMUNICATION DEPT DSP LAB IPCC c) Exponential Sequence An exponential sequence x[n]=αnx[n] = \\alpha^nx[n]=αn can be generated. For example, let’s use α=0.9\\alpha = 0.9α=0.9 and nnn ranging from -10 to 10. % Exponential Sequence n = -10:10; % Define the range of n alpha = 0.9; % Base of the exponential x = alpha.^n; % Exponential sequence % Plot the sequence stem(n, x, 'filled'); title('Exponential Sequence'); xlabel('n'); ylabel('x[n] = \\alpha^n'); RESULT  ELECTRONICS AND COMMUNICATION DEPT DSP LAB IPCC d) Sinusoidal Sequence A sinusoidal sequence can be defined as x[n]=sin (ωn)x[n] = \\sin(\\omega n)x[n]=sin(ωn) where ω\\omegaω is the angular frequency. % Sinusoidal Sequence n = 0:100; % Define the range of n omega = pi/4; % Angular frequency x = sin(omega * n); % Sinusoidal sequence % Plot the sequence stem(n, x,\"\n",
            "\n",
            "[7] \"'filled'); title('Sinusoidal Sequence'); xlabel('n'); ylabel('x[n] = sin(\\omega n)'); RESULT  ELECTRONICS AND COMMUNICATION DEPT DSP LAB IPCC 2. Program to perform the following operations on signals. a) Signal addition, b) Signal multiplication, c)Scaling, d) Shifting, e)Folding a) Signal Addition Signal addition involves adding two or more signals point-by-point. % Signal Addition n = 0:10; % Define the range of n % Define two example signals x1 = sin(n); % Signal 1: Sine wave x2 = cos(n); % Signal 2: Cosine wave % Perform signal addition x_sum = x1 + x2;  ELECTRONICS AND COMMUNICATION DEPT DSP LAB IPCC % Plot the signals subplot(3,1,1); stem(n, x1, 'filled'); title('Signal 1: sin(n)'); xlabel('n'); ylabel('x1[n]'); subplot(3,1,2); stem(n, x2, 'filled'); title('Signal 2: cos(n)'); xlabel('n'); ylabel('x2[n]'); subplot(3,1,3); stem(n, x_sum, 'filled'); title('Signal Addition: x1[n] + x2[n]'); xlabel('n'); ylabel('x1[n] + x2[n]'); RESULT  ELECTRONICS AND COMMUNICATION DEPT DSP LAB IPCC b) Signal Multiplication Signal multiplication involves multiplying two\"\n",
            "\n",
            "[27] \"AND COMMUNICATION DEPT DSP LAB IPCC 5.Computation of N point DFT of a given sequence (without using built-in function) and to plot the magnitude and phase spectrum. clc; x=input('Enterthesequenc e:'); N=input('Enter N: '); x1=[x,zeros(1,N-length(x))] %FindDFT K=0:1:N-1; n=0:1:N-1; wN=exp(- j*2*pi/N); nK=n'*K; wNnK=wN.^nK; XK=x1*wNnK abs_XK=abs(XK) angle_XK=angle(XK) n=0:1:N-1; subplot(3,1,1) stem(n,abs_XK) grid on title('Real Value of  ELECTRONICS AND COMMUNICATION DEPT DSP LAB IPCC DFT') xlabel('n') ylabel('amplitude') n=0:1:N-1; subplot(3,1,2)  ELECTRONICS AND COMMUNICATION DEPT DSP LAB IPCC stem(n,angle_XK) grid on title('AngleofDFTSign al') xlabel('n') ylabel('amplitude') %FindIDFT K=0:1:N-1; n=0:1:N-1; wN=exp(j*2*pi/N) ; nK=n'*K; wNnK=wN.^nK; x=real(XK*wNnK); x=abs((x./N)) n=0:1:N-1; subplot(3,1, 3) stem(n,x)gr id on title('idft signal') xlabel('n') ylabel('amplitude ')  ELECTRONICS AND COMMUNICATION DEPT DSP LAB IPCC DSP LAB IPCC RESULTS: Enterthesequence: [1 23 4] EnterN:8 x1 = 1 2 3 4 0 0 0 0 XK= Columns1through 5 10.0000 -0.4142-7.2426i-2.0000+2.0000i 2.4142 - 1.2426i-2.0000 -0.0000i Columns6through 8 2.4142 +1.2426i-2.0000- 2.0000i-0.4142 +7.2426i abs_XK= 10.0000 7.2545 2.8284 2.7153 2.0000 2.7153 2.8284\"\n",
            "\n",
            "[7] \"'filled'); title('Sinusoidal Sequence'); xlabel('n'); ylabel('x[n] = sin(\\omega n)'); RESULT  ELECTRONICS AND COMMUNICATION DEPT DSP LAB IPCC 2. Program to perform the following operations on signals. a) Signal addition, b) Signal multiplication, c)Scaling, d) Shifting, e)Folding a) Signal Addition Signal addition involves adding two or more signals point-by-point. % Signal Addition n = 0:10; % Define the range of n % Define two example signals x1 = sin(n); % Signal 1: Sine wave x2 = cos(n); % Signal 2: Cosine wave % Perform signal addition x_sum = x1 + x2;  ELECTRONICS AND COMMUNICATION DEPT DSP LAB IPCC % Plot the signals subplot(3,1,1); stem(n, x1, 'filled'); title('Signal 1: sin(n)'); xlabel('n'); ylabel('x1[n]'); subplot(3,1,2); stem(n, x2, 'filled'); title('Signal 2: cos(n)'); xlabel('n'); ylabel('x2[n]'); subplot(3,1,3); stem(n, x_sum, 'filled'); title('Signal Addition: x1[n] + x2[n]'); xlabel('n'); ylabel('x1[n] + x2[n]'); RESULT  ELECTRONICS AND COMMUNICATION DEPT DSP LAB IPCC b) Signal Multiplication Signal multiplication involves multiplying two\"\n",
            "\n",
            "[55] \"Design and implementation of digital IIR Butterworth low pass filter to meet the given specifications. % Specifications Fs = 1000; % Sampling frequency (Hz) Fc = 150; % Cut-off frequency (Hz) order = 4; % Filter order % Design the Butterworth low-pass filter [B, A] = butter(order, Fc/(Fs/2), 'low'); % Display filter coefficients disp('Numerator Coefficients (B):'); disp(B); disp('Denominator Coefficients (A):'); disp(A); % Create a sample signal (sine wave + noise) t = 0:1/Fs:1; % Time vector signal = sin(2*pi*100*t) + 0.5*randn(size(t)); % 100 Hz signal with noise % Apply the filter to the signal filtered_signal = filter(B, A, signal);  % Plot the original and filtered signals figure; subplot(2, 1, 1); plot(t, signal); title('Original Signal'); xlabel('Time (s)'); ylabel('Amplitude'); grid on; subplot(2, 1, 2); plot(t, filtered_signal); title('Filtered Signal (Low-Pass Butterworth)'); xlabel('Time (s)'); ylabel('Amplitude'); grid on; % Frequency response of the filter figure; freqz(B, A, 1024, Fs); title('Frequency Response of the Butterworth\"\n",
            "\n"
          ]
        }
      ]
    },
    {
      "cell_type": "code",
      "source": [
        "#defining the class for creation of vector space\n",
        "class SemanticSearch:\n",
        "\n",
        "    def __init__(self):\n",
        "        self.use = hub.load('https://tfhub.dev/google/universal-sentence-encoder/4')\n",
        "        self.fitted = False\n",
        "\n",
        "\n",
        "    def fit(self, data, batch=1000, n_neighbors=5):\n",
        "        self.data = data\n",
        "        self.embeddings = self.get_text_embedding(data, batch=batch)\n",
        "        n_neighbors = min(n_neighbors, len(self.embeddings))\n",
        "        self.nn = NearestNeighbors(n_neighbors=n_neighbors)\n",
        "        self.nn.fit(self.embeddings)\n",
        "        self.fitted = True\n",
        "\n",
        "\n",
        "    def __call__(self, text, return_data=True):\n",
        "        inp_emb = self.use([text])\n",
        "        neighbors = self.nn.kneighbors(inp_emb, return_distance=False)[0]\n",
        "\n",
        "        if return_data:\n",
        "            return [self.data[i] for i in neighbors]\n",
        "        else:\n",
        "            return neighbors\n",
        "\n",
        "\n",
        "    def get_text_embedding(self, texts, batch=1000):\n",
        "        embeddings = []\n",
        "        for i in range(0, len(texts), batch):\n",
        "            text_batch = texts[i:(i+batch)]\n",
        "            emb_batch = self.use(text_batch)\n",
        "            embeddings.append(emb_batch)\n",
        "        embeddings = np.vstack(embeddings)\n",
        "        return embeddings"
      ],
      "metadata": {
        "id": "eEbCDy1x-vbl"
      },
      "execution_count": 6,
      "outputs": []
    },
    {
      "cell_type": "code",
      "source": [
        "from google.colab import drive\n",
        "drive.mount('/content/drive')"
      ],
      "metadata": {
        "colab": {
          "base_uri": "https://localhost:8080/"
        },
        "id": "mXSV3c_j-19D",
        "outputId": "5b66a8ae-98c6-4d73-d435-cb6d4aca0065"
      },
      "execution_count": 7,
      "outputs": [
        {
          "output_type": "stream",
          "name": "stdout",
          "text": [
            "Mounted at /content/drive\n"
          ]
        }
      ]
    },
    {
      "cell_type": "code",
      "source": [
        "recommender = SemanticSearch()\n",
        "recommender.fit(chunks)"
      ],
      "metadata": {
        "id": "12KG4ckR_RDk"
      },
      "execution_count": 8,
      "outputs": []
    },
    {
      "cell_type": "code",
      "source": [
        "recommender('what is living world')"
      ],
      "metadata": {
        "colab": {
          "base_uri": "https://localhost:8080/"
        },
        "id": "cBWUal4v_eYa",
        "outputId": "881b9e04-0690-4444-f6a9-c48798ad0103"
      },
      "execution_count": 9,
      "outputs": [
        {
          "output_type": "execute_result",
          "data": {
            "text/plain": [
              "['[36] \"b) Linear convolution clc; x1=input(\\'Entersequence x1\\'); x2=input(\\'Entersequence x2\\'); N1=length(x1);N2=length( x2); % define N N=N1+N2- 1 x1=[x1,zeros(1,N-N1)] x2=[x2,zeros(1,N-N2)] %FindDFTofx1 X1=fft(x1) %FindDFTofx2 X2=fft(x2) %FindLinearConvolution X3=X1.*X2 x3=ifft(X 3) n=0:1:N-1;  stem(n,x3) title(\\'LinearConvolution\\') xlabel(\\'time\\') ylabel(\\'amplitude\\') RESULTS: Enter sequencex1[1 234] Entersequencex2[1234] N = Columns1through 5 10.0000 -2.0245-6.2240i 0.3460+2.4791i 0.1784-2.4220i 0.1784 +2.4220i Columns6through 7 0.3460-2.4791i-2.0245+6.2240i X2= Columns1through 5 10.0000 -2.0245-6.2240i 0.3460+2.4791i 0.1784-2.4220i 0.1784 +2.4220i 7 x1= 1 2 3 4 0 0 0 x2= 1 2 3 4 0 0 0  Columns6through 7 0.3460-2.4791i-2.0245+6.2240i X3 = 1.0e+002* Columns1through 5 1.0000 -0.3464+ 0.2520i-0.0603+ 0.0172i-0.0583 -0.0086i- 0.0583+0.0086i Columns6through 7 -0.0603- 0.0172i-0.3464-0.2520i x3= 1.0000 4.0000 10.0000 20.0000 25.0000 24.0000 16.000 LinearConvolution 25 20 15 10 5  7 Verification of Linearity property, circular time shift property & circular frequency shift property of DFT 1. Verification of Linearity Property The linearity property states that if x[n]x[n]x[n] and y[n]y[n]y[n] are two signals with their DFTs X[k]X[k]X[k] and Y[k]Y[k]Y[k],\"',\n",
              " '[39] \"8 -13.0000 6.9497 + 8.8492i -4.0000 - 7.0000i -2.9497 +20.8492i Expected DFT (a*X + b*Y): Columns 1 through 4 29.0000 -2.9497 -20.8492i -4.0000 + 7.0000i 6.9497 - 8.8492i  Columns 5 through 8 -13.0000 6.9497 + 8.8492i -4.0000 - 7.0000i -2.9497 +20.8492i 2. Verification of Circular Time Shift Property The circular time shift property states that if x[n]x[n]x[n] has DFT X[k]X[k]X[k], then: DFT{x[n−m]}=e−j2πNkmX[k]DFT\\\\{x[n - m]\\\\} = e^{-j \\\\frac{2\\\\pi}{N} km} X[k]DFT{x[n−m]}=e−jN2π kmX[k] % Parameters N = 8; % DFT size n = 0:N-1; % Time indices m = 3; % Shift amount % Signal x = [1 2 3 4 0 0 0 0]; % Signal x[n] % DFT of x[n] X = fft(x, N); % Circularly shifted signal x_shifted = circshift(x, m);  DFT_shifted = fft(x_shifted, N); % Expected DFT after circular shift expected_DFT = exp(-1j * (2 * pi / N) * (0:N-1) * m) .* X; % Display\"',\n",
              " '[4] \"step sequence % Plot the sequence stem(n, u, \\'filled\\'); title(\\'Unit Step Sequence\\'); xlabel(\\'n\\'); ylabel(\\'u[n]\\'); RESULT  ELECTRONICS AND COMMUNICATION DEPT DSP LAB IPCC c) Exponential Sequence An exponential sequence x[n]=αnx[n] = \\\\alpha^nx[n]=αn can be generated. For example, let’s use α=0.9\\\\alpha = 0.9α=0.9 and nnn ranging from -10 to 10. % Exponential Sequence n = -10:10; % Define the range of n alpha = 0.9; % Base of the exponential x = alpha.^n; % Exponential sequence % Plot the sequence stem(n, x, \\'filled\\'); title(\\'Exponential Sequence\\'); xlabel(\\'n\\'); ylabel(\\'x[n] = \\\\alpha^n\\'); RESULT  ELECTRONICS AND COMMUNICATION DEPT DSP LAB IPCC d) Sinusoidal Sequence A sinusoidal sequence can be defined as x[n]=sin (ωn)x[n] = \\\\sin(\\\\omega n)x[n]=sin(ωn) where ω\\\\omegaω is the angular frequency. % Sinusoidal Sequence n = 0:100; % Define the range of n omega = pi/4; % Angular frequency x = sin(omega * n); % Sinusoidal sequence % Plot the sequence stem(n, x,\"',\n",
              " '[41] \"results disp(\\'DFT of circularly shifted signal:\\'); disp(DFT_shifted); disp(\\'Expected DFT (circular shift property):\\'); disp(expected_DFT); Result DFT of circularly shifted signal: Columns 1 through 4 10.0000 -0.4142 - 7.2426i -2.0000 + 2.0000i 2.4142 - 1.2426i Columns 5 through 8 -2.0000 2.4142 + 1.2426i -2.0000 - 2.0000i -0.4142 + 7.2426i Expected DFT (circular shift property): Columns 1 through 4 10.0000 -4.8284 + 5.4142i -2.0000 - 2.0000i 0.8284 - 2.5858i  Columns 5 through 8 2.0000 + 0.0000i 0.8284 + 2.5858i -2.0000 + 2.0000i -4.8284 - 5.4142i Verification of Circular Frequency Shift Property The circular frequency shift property states that if x[n]x[n]x[n] has DFT X[k]X[k]X[k], then: DFT{ej2πNk0nx[n]}=X[k−k0]DFT\\\\{e^{j \\\\frac{2\\\\pi}{N} k_0 n} x[n]\\\\} = X[k - k_0]DFT{ejN2π k0 nx[n]}=X[k−k0 ] % Parameters N = 8; % DFT size n = 0:N-1; % Time indices k0 = 2; % Frequency shift amount % Signal  x = [1 2 3 4 0 0 0 0]; % Signal\"',\n",
              " '[27] \"AND COMMUNICATION DEPT DSP LAB IPCC 5.Computation of N point DFT of a given sequence (without using built-in function) and to plot the magnitude and phase spectrum. clc; x=input(\\'Enterthesequenc e:\\'); N=input(\\'Enter N: \\'); x1=[x,zeros(1,N-length(x))] %FindDFT K=0:1:N-1; n=0:1:N-1; wN=exp(- j*2*pi/N); nK=n\\'*K; wNnK=wN.^nK; XK=x1*wNnK abs_XK=abs(XK) angle_XK=angle(XK) n=0:1:N-1; subplot(3,1,1) stem(n,abs_XK) grid on title(\\'Real Value of  ELECTRONICS AND COMMUNICATION DEPT DSP LAB IPCC DFT\\') xlabel(\\'n\\') ylabel(\\'amplitude\\') n=0:1:N-1; subplot(3,1,2)  ELECTRONICS AND COMMUNICATION DEPT DSP LAB IPCC stem(n,angle_XK) grid on title(\\'AngleofDFTSign al\\') xlabel(\\'n\\') ylabel(\\'amplitude\\') %FindIDFT K=0:1:N-1; n=0:1:N-1; wN=exp(j*2*pi/N) ; nK=n\\'*K; wNnK=wN.^nK; x=real(XK*wNnK); x=abs((x./N)) n=0:1:N-1; subplot(3,1, 3) stem(n,x)gr id on title(\\'idft signal\\') xlabel(\\'n\\') ylabel(\\'amplitude \\')  ELECTRONICS AND COMMUNICATION DEPT DSP LAB IPCC DSP LAB IPCC RESULTS: Enterthesequence: [1 23 4] EnterN:8 x1 = 1 2 3 4 0 0 0 0 XK= Columns1through 5 10.0000 -0.4142-7.2426i-2.0000+2.0000i 2.4142 - 1.2426i-2.0000 -0.0000i Columns6through 8 2.4142 +1.2426i-2.0000- 2.0000i-0.4142 +7.2426i abs_XK= 10.0000 7.2545 2.8284 2.7153 2.0000 2.7153 2.8284\"']"
            ]
          },
          "metadata": {},
          "execution_count": 9
        }
      ]
    }
  ]
}